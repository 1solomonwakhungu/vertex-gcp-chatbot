{
  "nbformat": 4,
  "nbformat_minor": 0,
  "metadata": {
    "colab": {
      "provenance": [],
      "authorship_tag": "ABX9TyNOwxesYu4cIDnzBgPbyjLC"
    },
    "kernelspec": {
      "name": "python3",
      "display_name": "Python 3"
    },
    "language_info": {
      "name": "python"
    }
  },
  "cells": [
    {
      "cell_type": "code",
      "execution_count": null,
      "metadata": {
        "colab": {
          "base_uri": "https://localhost:8080/"
        },
        "id": "gPYlL8vs_auF",
        "outputId": "f462cc54-97a4-426a-9c65-2397fc44b04c"
      },
      "outputs": [
        {
          "output_type": "stream",
          "name": "stdout",
          "text": [
            "\u001b[2K   \u001b[90m━━━━━━━━━━━━━━━━━━━━━━━━━━━━━━━━━━━━━━━━\u001b[0m \u001b[32m5.1/5.1 MB\u001b[0m \u001b[31m15.0 MB/s\u001b[0m eta \u001b[36m0:00:00\u001b[0m\n",
            "\u001b[?25h\u001b[33m  WARNING: The script tb-gcp-uploader is installed in '/root/.local/bin' which is not on PATH.\n",
            "  Consider adding this directory to PATH or, if you prefer to suppress this warning, use --no-warn-script-location.\u001b[0m\u001b[33m\n",
            "\u001b[0m"
          ]
        }
      ],
      "source": [
        "!pip3 install --upgrade --user --quiet google-cloud-aiplatform"
      ]
    },
    {
      "cell_type": "code",
      "source": [
        "import sys\n",
        "import json\n",
        "from google.oauth2 import service_account\n",
        "import vertexai\n",
        "from vertexai.generative_models import GenerativeModel, ChatSession\n",
        "from getpass import getpass"
      ],
      "metadata": {
        "id": "dgTRe7dLCbXP"
      },
      "execution_count": 18,
      "outputs": []
    },
    {
      "cell_type": "code",
      "source": [
        "project_id = getpass(\"Enter your project ID:\")\n",
        "google_credentials = getpass(\"Enter your google credentials:\")"
      ],
      "metadata": {
        "colab": {
          "base_uri": "https://localhost:8080/"
        },
        "id": "PO0oHHzqFaKr",
        "outputId": "9dc6c53e-f395-42be-e30c-d78201633334"
      },
      "execution_count": 16,
      "outputs": [
        {
          "name": "stdout",
          "output_type": "stream",
          "text": [
            "Enter your project ID:··········\n",
            "Enter your google credentials:··········\n"
          ]
        }
      ]
    },
    {
      "cell_type": "code",
      "source": [
        "creds = json.loads(google_credentials)\n",
        "ai_credentials = service_account.Credentials.from_service_account_info(creds)"
      ],
      "metadata": {
        "id": "Gn_mJlGOFfvv"
      },
      "execution_count": 17,
      "outputs": []
    },
    {
      "cell_type": "code",
      "source": [
        "model_id = \"gemini-1.5-flash-001\"\n",
        "\n",
        "vertexai.init(project=project_id, location=\"us-central1\", credentials=ai_credentials)\n",
        "\n",
        "model = GenerativeModel(model_id)\n",
        "\n",
        "chat = model.start_chat()\n",
        "\n",
        "def get_chat_response(chat: ChatSession, prompt: str) -> str:\n",
        "    text_response = []\n",
        "    responses = chat.send_message(prompt, stream=True)\n",
        "    for chunk in responses:\n",
        "        text_response.append(chunk.text)\n",
        "    return \"\".join(text_response)\n",
        "\n",
        "while True:\n",
        "  try:\n",
        "      prompt = input(\"\\nEnter a prompt (empty to quit):\").strip()\n",
        "      if prompt:\n",
        "        print(get_chat_response(chat, prompt))\n",
        "      else:\n",
        "          print(\"[Exited]\")\n",
        "          break\n",
        "\n",
        "  except Exception as e:\n",
        "      print(f\"ERROR: Can't invoke '{model_id}'. Reason: {e}\")\n",
        "      exit(1)"
      ],
      "metadata": {
        "colab": {
          "base_uri": "https://localhost:8080/"
        },
        "id": "3W8rLo5JK-wO",
        "outputId": "1d0a97a8-c5d9-45f8-9c0a-72e6e5d82cdf"
      },
      "execution_count": null,
      "outputs": [
        {
          "output_type": "stream",
          "name": "stdout",
          "text": [
            "\n",
            "Enter a prompt (empty to quit):hello\n",
            "Hello! 👋  What can I do for you today? 😊 \n",
            "\n",
            "\n",
            "Enter a prompt (empty to quit):what is your name?\n",
            "I don't have a name in the traditional sense.  I'm a large language model, created by Google AI.  You can call me Bard, or anything you like! 😊  What's your name? \n",
            "\n"
          ]
        }
      ]
    }
  ]
}